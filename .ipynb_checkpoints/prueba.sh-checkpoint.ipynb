{
 "cells": [
  {
   "cell_type": "code",
   "execution_count": 2,
   "id": "4c618c3b",
   "metadata": {},
   "outputs": [
    {
     "ename": "SyntaxError",
     "evalue": "invalid syntax (1149377194.py, line 5)",
     "output_type": "error",
     "traceback": [
      "\u001b[0;36m  File \u001b[0;32m\"/tmp/ipykernel_131519/1149377194.py\"\u001b[0;36m, line \u001b[0;32m5\u001b[0m\n\u001b[0;31m    if [ ! -f \"$filename_file\" ]; then\u001b[0m\n\u001b[0m         ^\u001b[0m\n\u001b[0;31mSyntaxError\u001b[0m\u001b[0;31m:\u001b[0m invalid syntax\n"
     ]
    }
   ],
   "source": [
    "# Ruta al archivo que contiene las URLs de los archivos a descargar\n",
    "filename_file=\"/home/vant/MásterBioinformática/LinuxAvanzado/PrácticaFinal/decont/data/urls\"\n",
    "\n",
    "# Verifica si el archivo de nombres de archivo existe\n",
    "if [ ! -f \"$filename_file\" ]; then\n",
    "    echo \"El archivo $filename_file no existe.\"\n",
    "    exit 1\n",
    "fi\n",
    "\n",
    "#Download all the files specified in data/urls\n",
    "for url in $(cat \"$filename_file\") \n",
    "do\n",
    "    bash scripts/download.sh $url data\n",
    "done\n"
   ]
  }
 ],
 "metadata": {
  "kernelspec": {
   "display_name": "Python 3 (ipykernel)",
   "language": "python",
   "name": "python3"
  },
  "language_info": {
   "codemirror_mode": {
    "name": "ipython",
    "version": 3
   },
   "file_extension": ".py",
   "mimetype": "text/x-python",
   "name": "python",
   "nbconvert_exporter": "python",
   "pygments_lexer": "ipython3",
   "version": "3.10.12"
  }
 },
 "nbformat": 4,
 "nbformat_minor": 5
}
